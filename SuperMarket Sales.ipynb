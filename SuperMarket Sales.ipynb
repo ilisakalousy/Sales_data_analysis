{
 "cells": [
  {
   "cell_type": "code",
   "execution_count": 1,
   "id": "588bf31e",
   "metadata": {},
   "outputs": [],
   "source": [
    "import pandas as pd\n",
    "import numpy as np\n",
    "import matplotlib.pyplot as plt"
   ]
  },
  {
   "cell_type": "markdown",
   "id": "62592773",
   "metadata": {},
   "source": [
    "Ссылка на dataframe: https://www.kaggle.com/datasets/aungpyaeap/supermarket-sales\n",
    "\n",
    "Колонки и их значения:\n",
    "\n",
    "- Invoice Id - уникальный номер сделки\n",
    "- Branch - отделение магазина (А, В или С)\n",
    "- City - город\n",
    "- Customer type - тип покупателя (с бонусной картой или без)\n",
    "- Gender - гендер\n",
    "- Product line - категория продукции\n",
    "- Unit price - стоимость каждого товара \n",
    "- Quantity - количество купленного товара\n",
    "- Tax 5% - 5% tax free\n",
    "- Total - суммарная стоимость купленной продукции\n",
    "- Date - дата покупки\n",
    "- Time - время покупки\n",
    "- Payment - способ оплаты\n",
    "- cogs - стоимость проданной продукции\n",
    "- gross margin percentage - процент валовой прибыли\n",
    "- gross income - валовой доход\n",
    "- Rating - рейтинг клиентов по их покупательскому опыту (от 1 до 10)"
   ]
  },
  {
   "cell_type": "code",
   "execution_count": 2,
   "id": "ec57acc3",
   "metadata": {},
   "outputs": [
    {
     "data": {
      "text/html": [
       "<div>\n",
       "<style scoped>\n",
       "    .dataframe tbody tr th:only-of-type {\n",
       "        vertical-align: middle;\n",
       "    }\n",
       "\n",
       "    .dataframe tbody tr th {\n",
       "        vertical-align: top;\n",
       "    }\n",
       "\n",
       "    .dataframe thead th {\n",
       "        text-align: right;\n",
       "    }\n",
       "</style>\n",
       "<table border=\"1\" class=\"dataframe\">\n",
       "  <thead>\n",
       "    <tr style=\"text-align: right;\">\n",
       "      <th></th>\n",
       "      <th>Invoice ID</th>\n",
       "      <th>Branch</th>\n",
       "      <th>City</th>\n",
       "      <th>Customer type</th>\n",
       "      <th>Gender</th>\n",
       "      <th>Product line</th>\n",
       "      <th>Unit price</th>\n",
       "      <th>Quantity</th>\n",
       "      <th>Tax 5%</th>\n",
       "      <th>Total</th>\n",
       "      <th>Date</th>\n",
       "      <th>Time</th>\n",
       "      <th>Payment</th>\n",
       "      <th>cogs</th>\n",
       "      <th>gross margin percentage</th>\n",
       "      <th>gross income</th>\n",
       "      <th>Rating</th>\n",
       "    </tr>\n",
       "  </thead>\n",
       "  <tbody>\n",
       "    <tr>\n",
       "      <th>0</th>\n",
       "      <td>750-67-8428</td>\n",
       "      <td>A</td>\n",
       "      <td>Yangon</td>\n",
       "      <td>Member</td>\n",
       "      <td>Female</td>\n",
       "      <td>Health and beauty</td>\n",
       "      <td>74.69</td>\n",
       "      <td>7</td>\n",
       "      <td>26.1415</td>\n",
       "      <td>548.9715</td>\n",
       "      <td>1/5/2019</td>\n",
       "      <td>13:08</td>\n",
       "      <td>Ewallet</td>\n",
       "      <td>522.83</td>\n",
       "      <td>4.761905</td>\n",
       "      <td>26.1415</td>\n",
       "      <td>9.1</td>\n",
       "    </tr>\n",
       "    <tr>\n",
       "      <th>1</th>\n",
       "      <td>226-31-3081</td>\n",
       "      <td>C</td>\n",
       "      <td>Naypyitaw</td>\n",
       "      <td>Normal</td>\n",
       "      <td>Female</td>\n",
       "      <td>Electronic accessories</td>\n",
       "      <td>15.28</td>\n",
       "      <td>5</td>\n",
       "      <td>3.8200</td>\n",
       "      <td>80.2200</td>\n",
       "      <td>3/8/2019</td>\n",
       "      <td>10:29</td>\n",
       "      <td>Cash</td>\n",
       "      <td>76.40</td>\n",
       "      <td>4.761905</td>\n",
       "      <td>3.8200</td>\n",
       "      <td>9.6</td>\n",
       "    </tr>\n",
       "    <tr>\n",
       "      <th>2</th>\n",
       "      <td>631-41-3108</td>\n",
       "      <td>A</td>\n",
       "      <td>Yangon</td>\n",
       "      <td>Normal</td>\n",
       "      <td>Male</td>\n",
       "      <td>Home and lifestyle</td>\n",
       "      <td>46.33</td>\n",
       "      <td>7</td>\n",
       "      <td>16.2155</td>\n",
       "      <td>340.5255</td>\n",
       "      <td>3/3/2019</td>\n",
       "      <td>13:23</td>\n",
       "      <td>Credit card</td>\n",
       "      <td>324.31</td>\n",
       "      <td>4.761905</td>\n",
       "      <td>16.2155</td>\n",
       "      <td>7.4</td>\n",
       "    </tr>\n",
       "    <tr>\n",
       "      <th>3</th>\n",
       "      <td>123-19-1176</td>\n",
       "      <td>A</td>\n",
       "      <td>Yangon</td>\n",
       "      <td>Member</td>\n",
       "      <td>Male</td>\n",
       "      <td>Health and beauty</td>\n",
       "      <td>58.22</td>\n",
       "      <td>8</td>\n",
       "      <td>23.2880</td>\n",
       "      <td>489.0480</td>\n",
       "      <td>1/27/2019</td>\n",
       "      <td>20:33</td>\n",
       "      <td>Ewallet</td>\n",
       "      <td>465.76</td>\n",
       "      <td>4.761905</td>\n",
       "      <td>23.2880</td>\n",
       "      <td>8.4</td>\n",
       "    </tr>\n",
       "    <tr>\n",
       "      <th>4</th>\n",
       "      <td>373-73-7910</td>\n",
       "      <td>A</td>\n",
       "      <td>Yangon</td>\n",
       "      <td>Normal</td>\n",
       "      <td>Male</td>\n",
       "      <td>Sports and travel</td>\n",
       "      <td>86.31</td>\n",
       "      <td>7</td>\n",
       "      <td>30.2085</td>\n",
       "      <td>634.3785</td>\n",
       "      <td>2/8/2019</td>\n",
       "      <td>10:37</td>\n",
       "      <td>Ewallet</td>\n",
       "      <td>604.17</td>\n",
       "      <td>4.761905</td>\n",
       "      <td>30.2085</td>\n",
       "      <td>5.3</td>\n",
       "    </tr>\n",
       "  </tbody>\n",
       "</table>\n",
       "</div>"
      ],
      "text/plain": [
       "    Invoice ID Branch       City Customer type  Gender  \\\n",
       "0  750-67-8428      A     Yangon        Member  Female   \n",
       "1  226-31-3081      C  Naypyitaw        Normal  Female   \n",
       "2  631-41-3108      A     Yangon        Normal    Male   \n",
       "3  123-19-1176      A     Yangon        Member    Male   \n",
       "4  373-73-7910      A     Yangon        Normal    Male   \n",
       "\n",
       "             Product line  Unit price  Quantity   Tax 5%     Total       Date  \\\n",
       "0       Health and beauty       74.69         7  26.1415  548.9715   1/5/2019   \n",
       "1  Electronic accessories       15.28         5   3.8200   80.2200   3/8/2019   \n",
       "2      Home and lifestyle       46.33         7  16.2155  340.5255   3/3/2019   \n",
       "3       Health and beauty       58.22         8  23.2880  489.0480  1/27/2019   \n",
       "4       Sports and travel       86.31         7  30.2085  634.3785   2/8/2019   \n",
       "\n",
       "    Time      Payment    cogs  gross margin percentage  gross income  Rating  \n",
       "0  13:08      Ewallet  522.83                 4.761905       26.1415     9.1  \n",
       "1  10:29         Cash   76.40                 4.761905        3.8200     9.6  \n",
       "2  13:23  Credit card  324.31                 4.761905       16.2155     7.4  \n",
       "3  20:33      Ewallet  465.76                 4.761905       23.2880     8.4  \n",
       "4  10:37      Ewallet  604.17                 4.761905       30.2085     5.3  "
      ]
     },
     "execution_count": 2,
     "metadata": {},
     "output_type": "execute_result"
    }
   ],
   "source": [
    "df = pd.read_csv('https://docs.google.com/spreadsheets/d/e/2PACX-1vSuNuf8uyYPXJ8Ek-kkRojq37H6JZXi1GujZoX0cToJLcAKis_dNn-dYWrGgNqtqaeazkITUq9S2nF2/pub?gid=555846043&single=true&output=csv')\n",
    "df.head()"
   ]
  },
  {
   "cell_type": "markdown",
   "id": "406e98ca",
   "metadata": {},
   "source": [
    "# Оценка качества данных\n",
    "\n",
    "Для начала необходимо проверить данные на наличие пропусков, определить типы данных в колонках."
   ]
  },
  {
   "cell_type": "code",
   "execution_count": 3,
   "id": "2e5dc39b",
   "metadata": {},
   "outputs": [
    {
     "data": {
      "text/plain": [
       "Invoice ID                 0\n",
       "Branch                     0\n",
       "City                       0\n",
       "Customer type              0\n",
       "Gender                     0\n",
       "Product line               0\n",
       "Unit price                 0\n",
       "Quantity                   0\n",
       "Tax 5%                     0\n",
       "Total                      0\n",
       "Date                       0\n",
       "Time                       0\n",
       "Payment                    0\n",
       "cogs                       0\n",
       "gross margin percentage    0\n",
       "gross income               0\n",
       "Rating                     0\n",
       "dtype: int64"
      ]
     },
     "execution_count": 3,
     "metadata": {},
     "output_type": "execute_result"
    }
   ],
   "source": [
    "df.isnull().sum()"
   ]
  },
  {
   "cell_type": "markdown",
   "id": "40949091",
   "metadata": {},
   "source": [
    "Как видно, в датафрейме отсутвуют пропуски, следовательно, можно продолжать анализ. Теперь взглянем на типы значений в колонках:"
   ]
  },
  {
   "cell_type": "code",
   "execution_count": 4,
   "id": "2192fb62",
   "metadata": {},
   "outputs": [
    {
     "name": "stdout",
     "output_type": "stream",
     "text": [
      "<class 'pandas.core.frame.DataFrame'>\n",
      "RangeIndex: 1000 entries, 0 to 999\n",
      "Data columns (total 17 columns):\n",
      " #   Column                   Non-Null Count  Dtype  \n",
      "---  ------                   --------------  -----  \n",
      " 0   Invoice ID               1000 non-null   object \n",
      " 1   Branch                   1000 non-null   object \n",
      " 2   City                     1000 non-null   object \n",
      " 3   Customer type            1000 non-null   object \n",
      " 4   Gender                   1000 non-null   object \n",
      " 5   Product line             1000 non-null   object \n",
      " 6   Unit price               1000 non-null   float64\n",
      " 7   Quantity                 1000 non-null   int64  \n",
      " 8   Tax 5%                   1000 non-null   float64\n",
      " 9   Total                    1000 non-null   float64\n",
      " 10  Date                     1000 non-null   object \n",
      " 11  Time                     1000 non-null   object \n",
      " 12  Payment                  1000 non-null   object \n",
      " 13  cogs                     1000 non-null   float64\n",
      " 14  gross margin percentage  1000 non-null   float64\n",
      " 15  gross income             1000 non-null   float64\n",
      " 16  Rating                   1000 non-null   float64\n",
      "dtypes: float64(7), int64(1), object(9)\n",
      "memory usage: 132.9+ KB\n"
     ]
    }
   ],
   "source": [
    "df.info()"
   ]
  },
  {
   "cell_type": "markdown",
   "id": "043d0913",
   "metadata": {},
   "source": [
    "Колонки представлены двумя типами: object, float64 и int64, для работы с категориальными переменными удобнее будет переопределить им тип на str."
   ]
  },
  {
   "cell_type": "code",
   "execution_count": 5,
   "id": "1982bf91",
   "metadata": {
    "scrolled": false
   },
   "outputs": [
    {
     "name": "stdout",
     "output_type": "stream",
     "text": [
      "<class 'pandas.core.frame.DataFrame'>\n",
      "RangeIndex: 1000 entries, 0 to 999\n",
      "Data columns (total 17 columns):\n",
      " #   Column                   Non-Null Count  Dtype  \n",
      "---  ------                   --------------  -----  \n",
      " 0   Invoice ID               1000 non-null   string \n",
      " 1   Branch                   1000 non-null   string \n",
      " 2   City                     1000 non-null   string \n",
      " 3   Customer type            1000 non-null   string \n",
      " 4   Gender                   1000 non-null   string \n",
      " 5   Product line             1000 non-null   string \n",
      " 6   Unit price               1000 non-null   Float64\n",
      " 7   Quantity                 1000 non-null   Int64  \n",
      " 8   Tax 5%                   1000 non-null   Float64\n",
      " 9   Total                    1000 non-null   Float64\n",
      " 10  Date                     1000 non-null   string \n",
      " 11  Time                     1000 non-null   string \n",
      " 12  Payment                  1000 non-null   string \n",
      " 13  cogs                     1000 non-null   Float64\n",
      " 14  gross margin percentage  1000 non-null   Float64\n",
      " 15  gross income             1000 non-null   Float64\n",
      " 16  Rating                   1000 non-null   Float64\n",
      "dtypes: Float64(7), Int64(1), string(9)\n",
      "memory usage: 140.8 KB\n"
     ]
    }
   ],
   "source": [
    "object_columns = df.select_dtypes(include=object).columns\n",
    "\n",
    "# Преобразуем тип данных колонок на строковый тип данных\n",
    "df[object_columns] = df[object_columns].astype(str)\n",
    "\n",
    "# Изменяем исходный DataFrame \n",
    "df = df.convert_dtypes()\n",
    "\n",
    "df.info()"
   ]
  },
  {
   "cell_type": "markdown",
   "id": "1abd7b6a",
   "metadata": {},
   "source": [
    "# Выдвижение гипотез\n",
    "\n",
    "Проверим следующие предположения:\n",
    "\n",
    "1. мужчины и женщины в среднем тратят одинаковое количество денег\n",
    "2. средний чек покупателя с бонусной картой равен чеку покупателя без бонусной карты\n",
    "3. люди, расплачивающиеся безналично, в среднем тратят больше, чем те, кто платит наличными"
   ]
  },
  {
   "cell_type": "markdown",
   "id": "ea721039",
   "metadata": {},
   "source": [
    "# Проверка гипотез\n",
    "\n",
    "# Гипотеза №1\n",
    "Начнем с пункта 1:\n",
    "\n",
    "Нулевая гипотеза (H0): Средний чек мужчин равен среднему чек женщин. Альтернативная гипотеза (H2): средний чек мужчин отличается от среднего чека женщин. Для начала выделим необходимые колонки и проведем вивзуальный анализ:"
   ]
  },
  {
   "cell_type": "code",
   "execution_count": 6,
   "id": "34aad0ab",
   "metadata": {
    "scrolled": false
   },
   "outputs": [
    {
     "data": {
      "image/png": "[encoded data removed]",
      "text/plain": [
       "<Figure size 640x480 with 1 Axes>"
      ]
     },
     "metadata": {},
     "output_type": "display_data"
    }
   ],
   "source": [
    "df_1 = df[['Gender', 'Total']]\n",
    "\n",
    "df_1[df_1['Gender'] == 'Male']['Total'].hist(color='black')\n",
    "df_1[df_1['Gender'] == 'Female']['Total'].hist(alpha=0.8, color='grey')\n",
    "plt.xlabel(\"Чек\")\n",
    "plt.ylabel(\"Количество людей\")\n",
    "plt.title(\"Гистограмма №1\")\n",
    "plt.legend(['Мужчины', 'Женщины'])\n",
    "plt.show()"
   ]
  },
  {
   "cell_type": "markdown",
   "id": "e138492d",
   "metadata": {},
   "source": [
    "Оценивая данные визуально, можно предположить, что средний чек у женщин и мужчин действительно примерно равен, однако необходимо провести статистические тесты для строго доказательства. В данном случае воспользуемся t-тестом. Для его проведения неободимо, чтобы переменная:\n",
    "\n",
    "1. Была непрерывной\n",
    "2. Имела распределение близкое к нормальному\n",
    "3. Обладала незначительными различиями в дисперсии между двумя группами наблюдений\n",
    "\n",
    "Непрерывность очевидна, проверим нормальность распредения, для этого воспользуемся тестом Шапиро-Уилка. Для этого нам нужно большое количество выборок, чтобы убедиться, что среднее значение в них действительно распределено нормально.\n",
    "\n",
    "Нулевая гипотеза (H0): Распределение данных взято из генеральной совокупности с нормальным распределением.\n",
    "Альтернативная гипотеза (H1): Распределение данных не является нормальным."
   ]
  },
  {
   "cell_type": "code",
   "execution_count": 7,
   "id": "f0728df9",
   "metadata": {},
   "outputs": [
    {
     "name": "stdout",
     "output_type": "stream",
     "text": [
      "P-value для мужчин - 0.744779109954834\n",
      "P-value для женщин - 0.09574587643146515\n"
     ]
    }
   ],
   "source": [
    "means_male = []\n",
    "means_female = []\n",
    "n = 0\n",
    "\n",
    "while n < 500:\n",
    "    n += 1\n",
    "    sample_male = df_1[df_1['Gender'] == \"Male\"]['Total'].sample(100).mean()\n",
    "    means_male.append(sample_male)\n",
    "    sample_female = df_1[df_1['Gender'] == \"Female\"]['Total'].sample(100).mean()\n",
    "    means_female.append(sample_female)\n",
    "\n",
    "from scipy.stats import shapiro\n",
    "\n",
    "print(f\"P-value для мужчин - {shapiro(means_male).pvalue}\\nP-value для женщин - {shapiro(means_female).pvalue}\")"
   ]
  },
  {
   "cell_type": "markdown",
   "id": "0af932c5",
   "metadata": {},
   "source": [
    "Показатель p-value незначим (p-value > 0.05), поэтому мы не можем отклонить нулевую гипотезу и считаем, что средние в выборках распределены случайным образом.\n",
    "\n",
    "Далее нам нужно узнать, равны ли дисперсии по группам. И в зависимости от этого уточнить дополнительный параметр для t-теста. Воспользуемся критерием Левене:\n",
    "\n",
    "Нулевая гипотеза (H0): Дисперсии (вариации) двух или более групп данных статистически одинаковы (гомогенны).\n",
    "Альтернативная гипотеза (H1): Дисперсии групп данных статистически различаются (неоднородны)."
   ]
  },
  {
   "cell_type": "code",
   "execution_count": 8,
   "id": "943a3f55",
   "metadata": {},
   "outputs": [
    {
     "data": {
      "text/plain": [
       "'P-value для критерия Левене = 0.34154716602764346'"
      ]
     },
     "execution_count": 8,
     "metadata": {},
     "output_type": "execute_result"
    }
   ],
   "source": [
    "from scipy.stats import levene\n",
    "\n",
    "male_total = df_1[df_1['Gender'] == 'Male']['Total']\n",
    "female_total = df_1[df_1['Gender'] == 'Female']['Total']\n",
    "\n",
    "f\"P-value для критерия Левене = {levene(male_total, female_total).pvalue}\""
   ]
  },
  {
   "cell_type": "markdown",
   "id": "f85cce77",
   "metadata": {},
   "source": [
    "Мы видим, что p-value больше уровня значимости (0.05), следовательно, мы принимаем нулевую гипотезу о равенстве диспресий. Это необходимо отразить в t-тесте.\n",
    "\n",
    "Нулевая гипотеза (H0): Средние значения двух выборок статистически равны (нет различий между группами).\n",
    "Альтернативная гипотеза (H1): Средние значения двух выборок "
   ]
  },
  {
   "cell_type": "code",
   "execution_count": 9,
   "id": "d25d1491",
   "metadata": {
    "scrolled": true
   },
   "outputs": [
    {
     "data": {
      "text/plain": [
       "'P-value для t-теста = 0.11810484577135677'"
      ]
     },
     "execution_count": 9,
     "metadata": {},
     "output_type": "execute_result"
    }
   ],
   "source": [
    "from scipy.stats import ttest_ind\n",
    "\n",
    "f\"P-value для t-теста = {ttest_ind(list(male_total), list(female_total), equal_var=True).pvalue}\""
   ]
  },
  {
   "cell_type": "markdown",
   "id": "35453faa",
   "metadata": {},
   "source": [
    "Так как p-value > 0.05, мы не можем принять нулевую гипотезу о том, что средний чек не различается в зависимости от гендера."
   ]
  },
  {
   "cell_type": "code",
   "execution_count": 10,
   "id": "d0e0895a",
   "metadata": {
    "scrolled": true
   },
   "outputs": [
    {
     "data": {
      "text/plain": [
       "'Средний чек для мужчин - 310.79, средний чек для женщин - 335.1'"
      ]
     },
     "execution_count": 10,
     "metadata": {},
     "output_type": "execute_result"
    }
   ],
   "source": [
    "from statistics import mean\n",
    "f\"Средний чек для мужчин - {round(mean(male_total), 2)}, средний чек для женщин - {round(mean(female_total), 2)}\""
   ]
  },
  {
   "cell_type": "markdown",
   "id": "f3c26c92",
   "metadata": {},
   "source": [
    "# Гипотеза №2\n",
    "\n",
    "Далее рассмотрим второе предположение о том, что средний чек покупателя с бонусной картой равен чеку покупателя без бонусной карты\n",
    "\n",
    "Нулевая гипотеза (H0): средний чек покупателя с бонусной картой равен среднему чеку покупателя без бонусной карты. Альтернативная гипотеза (H1): средний чек покупателя с бонусной картой отличается от среднего чека покупателя без бонусной карты.\n",
    "\n",
    "Для начала подготовим датафрейм с необходимыми данными:"
   ]
  },
  {
   "cell_type": "code",
   "execution_count": 11,
   "id": "dd2f2b3b",
   "metadata": {},
   "outputs": [
    {
     "data": {
      "text/html": [
       "<div>\n",
       "<style scoped>\n",
       "    .dataframe tbody tr th:only-of-type {\n",
       "        vertical-align: middle;\n",
       "    }\n",
       "\n",
       "    .dataframe tbody tr th {\n",
       "        vertical-align: top;\n",
       "    }\n",
       "\n",
       "    .dataframe thead th {\n",
       "        text-align: right;\n",
       "    }\n",
       "</style>\n",
       "<table border=\"1\" class=\"dataframe\">\n",
       "  <thead>\n",
       "    <tr style=\"text-align: right;\">\n",
       "      <th></th>\n",
       "      <th>Customer type</th>\n",
       "      <th>Total</th>\n",
       "    </tr>\n",
       "  </thead>\n",
       "  <tbody>\n",
       "    <tr>\n",
       "      <th>0</th>\n",
       "      <td>Member</td>\n",
       "      <td>548.9715</td>\n",
       "    </tr>\n",
       "    <tr>\n",
       "      <th>1</th>\n",
       "      <td>Normal</td>\n",
       "      <td>80.22</td>\n",
       "    </tr>\n",
       "    <tr>\n",
       "      <th>2</th>\n",
       "      <td>Normal</td>\n",
       "      <td>340.5255</td>\n",
       "    </tr>\n",
       "    <tr>\n",
       "      <th>3</th>\n",
       "      <td>Member</td>\n",
       "      <td>489.048</td>\n",
       "    </tr>\n",
       "    <tr>\n",
       "      <th>4</th>\n",
       "      <td>Normal</td>\n",
       "      <td>634.3785</td>\n",
       "    </tr>\n",
       "  </tbody>\n",
       "</table>\n",
       "</div>"
      ],
      "text/plain": [
       "  Customer type     Total\n",
       "0        Member  548.9715\n",
       "1        Normal     80.22\n",
       "2        Normal  340.5255\n",
       "3        Member   489.048\n",
       "4        Normal  634.3785"
      ]
     },
     "execution_count": 11,
     "metadata": {},
     "output_type": "execute_result"
    }
   ],
   "source": [
    "df_2 = df[['Customer type', 'Total']]\n",
    "df_2.head()"
   ]
  },
  {
   "cell_type": "markdown",
   "id": "ab1a0e98",
   "metadata": {},
   "source": [
    "Вновь начнем с визуализации:"
   ]
  },
  {
   "cell_type": "code",
   "execution_count": 12,
   "id": "d3c7303d",
   "metadata": {},
   "outputs": [
    {
     "data": {
      "image/png": "[encoded data removed]",
      "text/plain": [
       "<Figure size 640x480 with 1 Axes>"
      ]
     },
     "metadata": {},
     "output_type": "display_data"
    }
   ],
   "source": [
    "df_2[df_2['Customer type'] == 'Normal']['Total'].hist(color='black')\n",
    "df_2[df_2['Customer type'] == 'Member']['Total'].hist(alpha=0.8, color='grey')\n",
    "plt.xlabel(\"Чек\")\n",
    "plt.ylabel(\"Количество покупателей\")\n",
    "plt.title(\"Гистограмма №2\")\n",
    "plt.legend(['Без карты', 'С картой'])\n",
    "plt.show()"
   ]
  },
  {
   "cell_type": "markdown",
   "id": "dd6caead",
   "metadata": {},
   "source": [
    "Визуально видно, что траты двух категорий покупателей вполне могут быть примерно равны, проведем статистические тесты.\n",
    "\n",
    "Вновь необходимо проверить есть ли различия в средних двух выборок - вновь t-тест. Непрерывность переменной очевидна, проверим нормальность распределения и равенство дисперсий:\n",
    "\n",
    "\n",
    "Тест Шапиро-Уилка:\n",
    "Нулевая гипотеза (H0): Распределение данных взято из генеральной совокупности с нормальным распределением. Альтернативная гипотеза (H1): Распределение данных не является нормальным."
   ]
  },
  {
   "cell_type": "code",
   "execution_count": 13,
   "id": "052dcf6c",
   "metadata": {},
   "outputs": [
    {
     "name": "stdout",
     "output_type": "stream",
     "text": [
      "P-value для покупателей без карты - 0.8255725502967834\n",
      "P-value для покупателей c картой - 0.7760877013206482\n"
     ]
    }
   ],
   "source": [
    "means_normal = []\n",
    "means_member = []\n",
    "n = 0\n",
    "\n",
    "while n < 500:\n",
    "    n += 1\n",
    "    sample_normal = df_2[df_2['Customer type'] == 'Normal']['Total'].sample(100).mean()\n",
    "    means_normal.append(sample_normal)\n",
    "    sample_member = df_2[df_2['Customer type'] == 'Member']['Total'].sample(100).mean()\n",
    "    means_member.append(sample_member)\n",
    "    \n",
    "print(f\"P-value для покупателей без карты - {shapiro(means_normal).pvalue}\\nP-value для покупателей c картой - {shapiro(means_member).pvalue}\")    "
   ]
  },
  {
   "cell_type": "markdown",
   "id": "3d609fec",
   "metadata": {},
   "source": [
    "P-value для обеих выборок незначим (p-value > 0.05), следовательно мы принимаем нулевую гипотезу, что средние в выборках распределены случайно."
   ]
  },
  {
   "cell_type": "markdown",
   "id": "25a0f2a6",
   "metadata": {},
   "source": [
    "Далее проверим равенство дисперсий через критерий Левене:\n",
    "Нулевая гипотеза (H0): Дисперсии (вариации) двух или более групп данных статистически одинаковы (гомогенны). Альтернативная гипотеза (H1): Дисперсии групп данных статистически различаются (неоднородны)."
   ]
  },
  {
   "cell_type": "code",
   "execution_count": 14,
   "id": "04350edf",
   "metadata": {},
   "outputs": [
    {
     "data": {
      "text/plain": [
       "'P-value для критерия Левене = 0.5611408477600044'"
      ]
     },
     "execution_count": 14,
     "metadata": {},
     "output_type": "execute_result"
    }
   ],
   "source": [
    "normal_total = df_2[df_2['Customer type'] == 'Normal']['Total']\n",
    "member_total = df_2[df_2['Customer type'] == 'Member']['Total']\n",
    "\n",
    "f\"P-value для критерия Левене = {levene(normal_total, member_total).pvalue}\""
   ]
  },
  {
   "cell_type": "markdown",
   "id": "2a152001",
   "metadata": {},
   "source": [
    "P-value оказалось выше уровня значимости в 5%, следовательно мы принимаем нулевую гипотезу о равенстве дисперсий.\n",
    "\n",
    "Проведем t-тест:"
   ]
  },
  {
   "cell_type": "code",
   "execution_count": 15,
   "id": "206f5ea3",
   "metadata": {},
   "outputs": [
    {
     "data": {
      "text/plain": [
       "'P-value для t-теста = 0.5343949596143621'"
      ]
     },
     "execution_count": 15,
     "metadata": {},
     "output_type": "execute_result"
    }
   ],
   "source": [
    "f\"P-value для t-теста = {ttest_ind(list(normal_total), list(member_total), equal_var=True).pvalue}\""
   ]
  },
  {
   "cell_type": "markdown",
   "id": "ea3579e7",
   "metadata": {},
   "source": [
    "Так как p-value оказался незначим, мы не можем принять нулевую гипотезу и делаем вывод, что средний чек покупателя с бонусной картой не равен среднему чеку покупателя без бонусной карты. "
   ]
  },
  {
   "cell_type": "code",
   "execution_count": 16,
   "id": "271fee92",
   "metadata": {},
   "outputs": [
    {
     "name": "stdout",
     "output_type": "stream",
     "text": [
      "Средний чек для покупателя без бонусной карты = 318.12\n",
      "Средний чек для покупателя с бонусной картой = 327.79\n"
     ]
    }
   ],
   "source": [
    "print(f\"Средний чек для покупателя без бонусной карты = {round(normal_total.mean(), 2)}\\nСредний чек для покупателя с бонусной картой = {round(member_total.mean(), 2)}\")"
   ]
  },
  {
   "cell_type": "markdown",
   "id": "2a1b20c6",
   "metadata": {},
   "source": [
    "# Гипотеза №3\n",
    "\n",
    "Покупатели, использующие разные способы оплаты, в среднем тратят одинаковое количество денег \n",
    "\n",
    "Нулевая гипотеза (H0): средние чеки покупателей, использующих разные способы оплаты, равны. Альтернативная гипотеза (H1): средние чеки покупателей, использующих разные способы оплаты, не равны.\n",
    "\n",
    "Подготовим необходимые данные:"
   ]
  },
  {
   "cell_type": "code",
   "execution_count": 17,
   "id": "e5f07e51",
   "metadata": {},
   "outputs": [
    {
     "data": {
      "text/html": [
       "<div>\n",
       "<style scoped>\n",
       "    .dataframe tbody tr th:only-of-type {\n",
       "        vertical-align: middle;\n",
       "    }\n",
       "\n",
       "    .dataframe tbody tr th {\n",
       "        vertical-align: top;\n",
       "    }\n",
       "\n",
       "    .dataframe thead th {\n",
       "        text-align: right;\n",
       "    }\n",
       "</style>\n",
       "<table border=\"1\" class=\"dataframe\">\n",
       "  <thead>\n",
       "    <tr style=\"text-align: right;\">\n",
       "      <th></th>\n",
       "      <th>Payment</th>\n",
       "      <th>Total</th>\n",
       "    </tr>\n",
       "  </thead>\n",
       "  <tbody>\n",
       "    <tr>\n",
       "      <th>0</th>\n",
       "      <td>Ewallet</td>\n",
       "      <td>548.9715</td>\n",
       "    </tr>\n",
       "    <tr>\n",
       "      <th>1</th>\n",
       "      <td>Cash</td>\n",
       "      <td>80.22</td>\n",
       "    </tr>\n",
       "    <tr>\n",
       "      <th>2</th>\n",
       "      <td>Credit card</td>\n",
       "      <td>340.5255</td>\n",
       "    </tr>\n",
       "    <tr>\n",
       "      <th>3</th>\n",
       "      <td>Ewallet</td>\n",
       "      <td>489.048</td>\n",
       "    </tr>\n",
       "    <tr>\n",
       "      <th>4</th>\n",
       "      <td>Ewallet</td>\n",
       "      <td>634.3785</td>\n",
       "    </tr>\n",
       "  </tbody>\n",
       "</table>\n",
       "</div>"
      ],
      "text/plain": [
       "       Payment     Total\n",
       "0      Ewallet  548.9715\n",
       "1         Cash     80.22\n",
       "2  Credit card  340.5255\n",
       "3      Ewallet   489.048\n",
       "4      Ewallet  634.3785"
      ]
     },
     "execution_count": 17,
     "metadata": {},
     "output_type": "execute_result"
    }
   ],
   "source": [
    "df_3 = df[['Payment', 'Total']]\n",
    "df_3.head()"
   ]
  },
  {
   "cell_type": "code",
   "execution_count": 18,
   "id": "0af0f25c",
   "metadata": {},
   "outputs": [
    {
     "data": {
      "image/png": "[encoded data removed]",
      "text/plain": [
       "<Figure size 1200x400 with 3 Axes>"
      ]
     },
     "metadata": {},
     "output_type": "display_data"
    }
   ],
   "source": [
    "plt.figure(figsize=(12, 4))\n",
    "\n",
    "plt.subplot(1, 3, 1)\n",
    "ewallet_data = df_3[df_3['Payment'] == 'Ewallet']['Total']\n",
    "plt.hist(ewallet_data, color='grey', alpha=0.7, bins=10)\n",
    "plt.xlabel('Чек')\n",
    "plt.ylabel('Частота')\n",
    "plt.title('Ewallet')\n",
    "\n",
    "plt.subplot(1, 3, 2)\n",
    "cash_data = df_3[df_3['Payment'] == 'Cash']['Total']\n",
    "plt.hist(cash_data, color='grey', alpha=0.7, bins=10)\n",
    "plt.xlabel('Чек')\n",
    "plt.ylabel('Частота')\n",
    "plt.title('Cash')\n",
    "\n",
    "plt.subplot(1, 3, 3)\n",
    "credit_card_data = df_3[df_3['Payment'] == 'Credit card']['Total']\n",
    "plt.hist(credit_card_data, color='grey', alpha=0.7, bins=10)\n",
    "plt.xlabel('Чек')\n",
    "plt.ylabel('Частота')\n",
    "plt.title('Credit card')\n",
    "\n",
    "plt.tight_layout()\n",
    "plt.show()"
   ]
  },
  {
   "cell_type": "markdown",
   "id": "e324800b",
   "metadata": {},
   "source": [
    "Визуально можно сказать, что средние чеки примерно равны у каждого способа оплаты, однако для доказательства этого предположения проведем тест ANOVA:"
   ]
  },
  {
   "cell_type": "code",
   "execution_count": 19,
   "id": "61de5d12",
   "metadata": {},
   "outputs": [
    {
     "data": {
      "text/plain": [
       "'P-value для теста ANOVA = 0.9221037792354058'"
      ]
     },
     "execution_count": 19,
     "metadata": {},
     "output_type": "execute_result"
    }
   ],
   "source": [
    "from scipy.stats import f_oneway\n",
    "\n",
    "f\"P-value для теста ANOVA = {f_oneway(ewallet_data, cash_data, credit_card_data).pvalue}\""
   ]
  },
  {
   "cell_type": "markdown",
   "id": "d264588a",
   "metadata": {},
   "source": [
    "Так как p-value > 0.05, мы не можем отбросить нулевую гипотезу, следовательно, наше предположение о том, что средние чеки покупателей равны вне зависимости от способа оплаты равны с точностью 95%."
   ]
  },
  {
   "cell_type": "markdown",
   "id": "2ff0b237",
   "metadata": {},
   "source": [
    "# Заключение\n",
    "\n",
    "В данной работе было сформулировано и проверено 3 гипотезы:\n",
    "\n",
    "1. Средний чек мужчин равен среднему чек женщин\n",
    "2. Средний чек покупателя с бонусной картой равен среднему чеку покупателя без бонусной карты\n",
    "3. Средний чек покупателей, использующих разные способы оплаты, равны.\n",
    "\n",
    "По результатам статистических тестов было выявлено, что:\n",
    "\n",
    "1. Средний чек мужчин и женщин отличается\n",
    "2. Средний чек покупателя с бонусной картой в среднем выше среднего чека покупателя, без бонусной карты\n",
    "3. Средний чек покупателей равен не зависимо от способы оплаты"
   ]
  }
 ],
 "metadata": {
  "kernelspec": {
   "display_name": "Python 3 (ipykernel)",
   "language": "python",
   "name": "python3"
  },
  "language_info": {
   "codemirror_mode": {
    "name": "ipython",
    "version": 3
   },
   "file_extension": ".py",
   "mimetype": "text/x-python",
   "name": "python",
   "nbconvert_exporter": "python",
   "pygments_lexer": "ipython3",
   "version": "3.10.9"
  }
 },
 "nbformat": 4,
 "nbformat_minor": 5
}
